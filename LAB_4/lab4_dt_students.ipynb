{
 "cells": [
  {
   "cell_type": "markdown",
   "metadata": {},
   "source": [
    "<h1>MALIS Lab Session 4 - Fall 2018</h1>"
   ]
  },
  {
   "cell_type": "markdown",
   "metadata": {},
   "source": [
    "The aim of this lab session is to practice with decision trees. Your goal is to build a classifier telling you if mushrooms are edible or not.\n",
    "\n",
    "**DISCLAIMER: this lab is for educational purposes only, NONE of the models you will implement in the following should be used in real life to know whether mushrooms are edible or not. If you do so, you will probably DIE in a HORRIBLE and PAINFUL death.**\n",
    "\n",
    "Experiments should be made by groups of two students. Each group should produce a Jupyter Notebook with all their results and comments. We strongly encourage the addition of plots and visual representations to the report, bearing in mind that comments on graphical data are still necessary. Code for adding images to your notebook: ```<img src=\"path/to/image.png\" />```.\n",
    "\n",
    "Submit your complete notebook as an archive (tar -cf notebook$<last\\_name1>\\_<last\\_name2>$.tar lab4/). Deadline for submitting your notebook: 26 January 2020."
   ]
  },
  {
   "cell_type": "markdown",
   "metadata": {},
   "source": [
    "<h1>Introduction</h1>"
   ]
  },
  {
   "cell_type": "markdown",
   "metadata": {},
   "source": [
    "This lab session is based on the mushrooms dataset that can be found at https://archive.ics.uci.edu/ml/datasets/mushroom. Data come from *Mushroom records drawn from The Audubon Society Field Guide to North American Mushrooms* (1981) by G. H. Lincoff. This data set includes descriptions of hypothetical samples corresponding to 23 species of gilled mushrooms in the Agaricus and Lepiota Family (pp. 500-525). Each species is identified as definitely edible, definitely poisonous, or of unknown edibility and not recommended. This latter class was combined with the poisonous one. **The Guide clearly states that there is no simple rule for determining the edibility of a mushroom**.\n",
    "\n",
    "You will use the following attributes to classify mushrooms between edible and poisonous.\n",
    "\n",
    "<table>\n",
    "    <tbody>\n",
    "        <tr>\n",
    "            <th><p>Attributes</p></th>\n",
    "            <th><p>Possible Values</p></th>\n",
    "            <th><p>Nb Values</p></th>\n",
    "        </tr>\n",
    "        <tr>\n",
    "            <td><p>class</p></td>\n",
    "            <td><p>edible=e,poisonous=p</p></td>\n",
    "            <td><p>2</p></td>\n",
    "        </tr>\n",
    "        <tr>\n",
    "            <td><p>cap-shape</p></td>\n",
    "            <td><p>bell=b,conical=c,convex=x,flat=f,knobbed=k,sunken=s</p></td>\n",
    "            <td><p>6</p></td>\n",
    "        </tr>\n",
    "        <tr>\n",
    "            <td><p>cap-surface</p></td>\n",
    "            <td><p>fibrous=f,grooves=g,scaly=y,smooth=s</p></td>\n",
    "            <td><p>4</p></td>\n",
    "        </tr>\n",
    "        <tr>\n",
    "            <td><p>cap-color</p></td>\n",
    "            <td><p>brown=n,buff=b,cinnamon=c,gray=g,green=r,pink=p,purple=u,red=e,white=w,yellow=y</p></td>\n",
    "            <td><p>10</p></td>\n",
    "        </tr>\n",
    "        <tr>\n",
    "            <td><p>bruises?</p></td>\n",
    "            <td><p>bruises=t,no=f</p></td>\n",
    "            <td><p>2</p></td>\n",
    "        </tr>\n",
    "        <tr>\n",
    "            <td><p>odor</p></td>\n",
    "            <td><p>almond=a,anise=l,creosote=c,fishy=y,foul=f,musty=m,none=n,pungent=p,spicy=s</p></td>\n",
    "            <td><p>9</p></td>\n",
    "        </tr>\n",
    "        <tr>\n",
    "            <td><p>gill-attachment</p></td>\n",
    "            <td><p>attached=a,descending=d,free=f,notched=n</p></td>\n",
    "            <td><p>4</p></td>\n",
    "        </tr>\n",
    "        <tr>\n",
    "            <td><p>gill-spacing</p></td>\n",
    "            <td><p>close=c,crowded=w,distant=d</p></td>\n",
    "            <td><p>3</p></td>\n",
    "        </tr>\n",
    "        <tr>\n",
    "            <td><p>gill-size</p></td>\n",
    "            <td><p>broad=b,narrow=n</p></td>\n",
    "            <td><p>2</p></td>\n",
    "        </tr>\n",
    "        <tr>\n",
    "            <td><p>gill-color</p></td>\n",
    "            <td><p>black=k,brown=n,buff=b,chocolate=h,gray=g,green=r,orange=o,pink=p,purple=u,red=e,white=w,yellow=y</p></td>\n",
    "            <td><p>12</p></td>\n",
    "        </tr>\n",
    "        <tr>\n",
    "            <td><p>stalk-shape</p></td>\n",
    "            <td><p>enlarging=e,tapering=t</p></td>\n",
    "            <td><p>2</p></td>\n",
    "        </tr>\n",
    "        <tr>\n",
    "            <td><p>stalk-root</p></td>\n",
    "            <td><p>bulbous=b,club=c,cup=u,equal=e,rhizomorphs=z,rooted=r,missing=?</p></td>\n",
    "            <td><p>7</p></td>\n",
    "        </tr>\n",
    "        <tr>\n",
    "            <td><p>stalk-surface-above-ring</p></td>\n",
    "            <td><p>fibrous=f,scaly=y,silky=k,smooth=s</p></td>\n",
    "            <td><p>4</p></td>\n",
    "        </tr>\n",
    "        <tr>\n",
    "            <td><p>stalk-surface-below-ring</p></td>\n",
    "            <td><p>fibrous=f,scaly=y,silky=k,smooth=s</p></td>\n",
    "            <td><p>4</p></td>\n",
    "        </tr>\n",
    "        <tr>\n",
    "            <td><p>stalk-color-above-ring</p></td>\n",
    "            <td><p>brown=n,buff=b,cinnamon=c,gray=g,orange=o,pink=p,red=e,white=w,yellow=y</p></td>\n",
    "            <td><p>9</p></td>\n",
    "        </tr>\n",
    "        <tr>\n",
    "            <td><p>stalk-color-below-ring</p></td>\n",
    "            <td><p>brown=n,buff=b,cinnamon=c,gray=g,orange=o,pink=p,red=e,white=w,yellow=y</p></td>\n",
    "            <td><p>9</p></td>\n",
    "        </tr>\n",
    "        <tr>\n",
    "            <td><p>veil-type</p></td>\n",
    "            <td><p>partial=p,universal=u</p></td>\n",
    "            <td><p>2</p></td>\n",
    "        </tr>\n",
    "        <tr>\n",
    "            <td><p>veil-color</p></td>\n",
    "            <td><p>brown=n,orange=o,white=w,yellow=y</p></td>\n",
    "            <td><p>4</p></td>\n",
    "        </tr>\n",
    "        <tr>\n",
    "            <td><p>ring-number</p></td>\n",
    "            <td><p>none=n,one=o,two=t</p></td>\n",
    "            <td><p>3</p></td>\n",
    "        </tr>\n",
    "        <tr>\n",
    "            <td><p>ring-type</p></td>\n",
    "            <td><p>cobwebby=c,evanescent=e,flaring=f,large=l,none=n,pendant=p,sheathing=s,zone=z</p></td>\n",
    "            <td><p>8</p></td>\n",
    "        </tr>\n",
    "        <tr>\n",
    "            <td><p>spore-print-color</p></td>\n",
    "            <td><p>black=k,brown=n,buff=b,chocolate=h,green=r,orange=o,purple=u,white=w,yellow=y</p></td>\n",
    "            <td><p>9</p></td>\n",
    "        </tr>\n",
    "        <tr>\n",
    "            <td><p>population</p></td>\n",
    "            <td><p>abundant=a,clustered=c,numerous=n,scattered=s,several=v,solitary=y</p></td>\n",
    "            <td><p>6</p></td>\n",
    "        </tr>\n",
    "        <tr>\n",
    "            <td><p>habitat</p></td>\n",
    "            <td><p>grasses=g,leaves=l,meadows=m,paths=p,urban=u,waste=w,woods=d</p></td>\n",
    "            <td><p>7</p></td>\n",
    "        </tr>\n",
    "    </tbody>\n",
    "</table>\n",
    "\n",
    "All the questions that will be asked in your decision trees will be in the form \"is (ATTRIBUTE) equal to (VALUE)?\". Therefore, you will have a total number of 126 possible questions. We divide the dataset into a training set of size 7124 and a test set of size 1000.\n",
    "\n",
    "In the first part, you will have to complete missing parts of a code implementing decision trees. In the second part, you will make some experiments on the Mushrooms dataset.\n",
    "\n",
    "First of all, please run the following cell to import relevant libraries, classes and functions."
   ]
  },
  {
   "cell_type": "code",
   "execution_count": null,
   "metadata": {},
   "outputs": [],
   "source": [
    "import math\n",
    "import random\n",
    "import matplotlib.pyplot as plt\n",
    "from utils import Dataset, Sample, Tree, equals, import_data, accuracy\n",
    "log2 = lambda x: 0 if x <= 0 else math.log(x, 2)"
   ]
  },
  {
   "cell_type": "markdown",
   "metadata": {},
   "source": [
    "<h1>Part 1: Implementing Decision Trees</h1>\n",
    "\n",
    "In this lab, you will work with the Sample, Dataset and Tree classes. The Sample class represents a mushroom. Its attribute \"is_positive\" will be True when the mushroom is edible and False if it is poisonous. The Dataset class represents a set of mushrooms. The Tree class actually represents a node of a Decision Tree. We strongly advise you to have a look at these classes (in the utils.py file) to understand well how they work.\n",
    "\n",
    "<h4>Question 1</h4>\n",
    "Implement the compute_entropy() function and the split() function of the Dataset class."
   ]
  },
  {
   "cell_type": "code",
   "execution_count": null,
   "metadata": {},
   "outputs": [],
   "source": [
    "def compute_entropy(self):\n",
    "    '''\n",
    "    Compute the entropy of a set of mushrooms (entropy = p_edible*log2(p_edible) + p_poisonous*log2(p_poisonous))\n",
    "    '''\n",
    "    dataset = self.data\n",
    "    total_number_of_samples = self.len\n",
    "    ### YOUR IMPLEMENTATION ###\n",
    "    return entropy\n",
    "Dataset.compute_entropy = compute_entropy\n",
    "\n",
    "def split(self, attribute, value, function):\n",
    "    '''\n",
    "    Split a dataset into two datasets according to a question\n",
    "    Given a sample x, the answer of the question is function(x.attributes[attribute], value)\n",
    "    pos_set and neg_set are Dataset objects\n",
    "    '''\n",
    "    if not self.len: # If the dataset is empty, we return default values\n",
    "        return set(), set(), 0.\n",
    "    \n",
    "    pos_set = # Dataset(samples x verifying function(x.attributes[attribute], value) == True)\n",
    "    neg_set = # Dataset(samples x verifying function(x.attributes[attribute], value) == False)\n",
    "    split_entropy = # New entropy after asking the question\n",
    "    return pos_set, neg_set, split_entropy\n",
    "Dataset.split = split"
   ]
  },
  {
   "cell_type": "markdown",
   "metadata": {},
   "source": [
    "<h4>Question 2</h4>\n",
    "Implement the make_question() function of the Tree class."
   ]
  },
  {
   "cell_type": "code",
   "execution_count": null,
   "metadata": {},
   "outputs": [],
   "source": [
    "def make_question(self, questions_set, max_level):\n",
    "    '''\n",
    "    Find the best question for a node. If no entropy improvement is possible, then (None, None, None), self.entropy_before is returned.\n",
    "    '''\n",
    "    best_entropy = self.entropy_before\n",
    "    pos_set = set()\n",
    "    neg_set = set()\n",
    "    best_question = (None, None, None)\n",
    "    for attribute, value, function in questions_set:\n",
    "        new_pos_set, new_neg_set, new_entropy = # Split dataset according to question (attribute, value, function)\n",
    "        if new_entropy < best_entropy: # If entropy improves\n",
    "            best_entropy = new_entropy\n",
    "            pos_set = new_pos_set\n",
    "            neg_set = new_neg_set\n",
    "            best_question = (attribute, value, function)\n",
    "    if best_question[0]: # If at least one question improves entropy\n",
    "        if len(pos_set) and len(neg_set): # If none of both sets are empty\n",
    "            new_questions_set = questions_set - set([best_question])\n",
    "            self.pos_tree = # Where to go if the answer to the best question is positive\n",
    "            self.neg_tree = # Where to go if the answer to the best question is negative\n",
    "        else: # It can happen that entropy decreases due to floating-point errors...\n",
    "            return best_question, self.entropy_before # If one of the sets if empty, then we return the previous entropy\n",
    "                                                      # and it means that the current node is actually a leaf\n",
    "    return best_question, best_entropy\n",
    "Tree.make_question = make_question"
   ]
  },
  {
   "cell_type": "markdown",
   "metadata": {},
   "source": [
    "<h1>Part 2: Detecting edible mushrooms</h1>\n",
    "\n",
    "In this part you will run your code on the Mushrooms dataset. First of all, run the following cell to import data."
   ]
  },
  {
   "cell_type": "code",
   "execution_count": null,
   "metadata": {},
   "outputs": [],
   "source": [
    "train_set, test_set, questions_set = import_data()\n",
    "print(len(train_set), len(test_set))"
   ]
  },
  {
   "cell_type": "markdown",
   "metadata": {},
   "source": [
    "<h4>Question 3</h4>\n",
    "Run the following cell to build a decision tree of depth 1 based on the Mushrooms training dataset. What is the most informing question to ask?"
   ]
  },
  {
   "cell_type": "code",
   "execution_count": null,
   "metadata": {},
   "outputs": [],
   "source": [
    "tree = Tree(questions_set, Dataset(train_set), 1)\n",
    "print(tree)"
   ]
  },
  {
   "cell_type": "markdown",
   "metadata": {},
   "source": [
    "<h4>Your answer</h4>\n",
    "..."
   ]
  },
  {
   "cell_type": "markdown",
   "metadata": {},
   "source": [
    "<h4>Question 4</h4>\n",
    "Now run the following cell to build decision trees of maximum depth 0 to 8 and plot their accuracies and maximum depths. What do you notice? Explain your observations."
   ]
  },
  {
   "cell_type": "code",
   "execution_count": null,
   "metadata": {},
   "outputs": [],
   "source": [
    "trees = [Tree(questions_set, Dataset(train_set), i) for i in range(9)]\n",
    "accuracies = [accuracy(trees[i], test_set) for i in range(9)]\n",
    "depths = [trees[i].get_size() for i in range(9)]\n",
    "\n",
    "plt.plot(list(range(9)), accuracies, 'ro')\n",
    "plt.ylabel('Accuracy')\n",
    "plt.xlabel('Maximum tree depth')\n",
    "plt.axis([0, 9, 0, 1.1])\n",
    "plt.show()\n",
    "\n",
    "plt.plot(list(range(9)), depths, 'bo')\n",
    "plt.ylabel('Actual tree depth')\n",
    "plt.xlabel('Maximum tree depth')\n",
    "plt.axis([0, 9, 0, 9])\n",
    "plt.show()"
   ]
  },
  {
   "cell_type": "markdown",
   "metadata": {},
   "source": [
    "<h4>Your answer</h4>\n",
    "..."
   ]
  },
  {
   "cell_type": "markdown",
   "metadata": {},
   "source": [
    "For the following you will work with a tree of depth 5. Run the following cell to build it and print it."
   ]
  },
  {
   "cell_type": "code",
   "execution_count": null,
   "metadata": {},
   "outputs": [],
   "source": [
    "tree = Tree(questions_set, Dataset(train_set), 5)\n",
    "print(tree)"
   ]
  },
  {
   "cell_type": "markdown",
   "metadata": {},
   "source": [
    "<h4>Question 5</h4>\n",
    "Which questions can actually be useful to ask to detect the edibility of a mushroom?"
   ]
  },
  {
   "cell_type": "markdown",
   "metadata": {},
   "source": [
    "<h4>Your answer</h4>\n",
    "..."
   ]
  },
  {
   "cell_type": "markdown",
   "metadata": {},
   "source": [
    "<h4>Question 6</h4>\n",
    "You found a large amount of the following mushrooms in your garden. You would like to know whether they are edible or not.\n",
    "\n",
    "<img src=\"mushroom_lab3.jpg\" width=600 />\n",
    "\n",
    "You pick one of them and notice it has dark brown spore print. You smell it: it does not have any noticeable odor. The surface below its ring is a bit silky. Do you think that you should eat that mushroom? Justify your answer."
   ]
  },
  {
   "cell_type": "markdown",
   "metadata": {},
   "source": [
    "<h4>Your answer</h4>\n",
    "..."
   ]
  },
  {
   "cell_type": "markdown",
   "metadata": {},
   "source": [
    "<h4>Question 7</h4>\n",
    "Your friend prepared a dish with what he called \"mushrooms with a very pleasant almond smell that I found in the forest\". What do you think of that dish? Justify your answer."
   ]
  },
  {
   "cell_type": "code",
   "execution_count": null,
   "metadata": {},
   "outputs": [],
   "source": [
    "# You can make some tests here to evaluate the edibility of your friend's dish..."
   ]
  },
  {
   "cell_type": "markdown",
   "metadata": {},
   "source": [
    "<h4>Your answer</h4>\n",
    "..."
   ]
  }
 ],
 "metadata": {
  "kernelspec": {
   "display_name": "Python 3",
   "language": "python",
   "name": "python3"
  },
  "language_info": {
   "codemirror_mode": {
    "name": "ipython",
    "version": 3
   },
   "file_extension": ".py",
   "mimetype": "text/x-python",
   "name": "python",
   "nbconvert_exporter": "python",
   "pygments_lexer": "ipython3",
   "version": "3.7.3"
  }
 },
 "nbformat": 4,
 "nbformat_minor": 2
}
