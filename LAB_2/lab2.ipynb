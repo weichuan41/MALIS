{
 "cells": [
  {
   "cell_type": "markdown",
   "metadata": {},
   "source": [
    "<h1>MALIS Lab Session 2 - Fall 2019</h1>\n",
    "November 12, 2019\n",
    "\n",
    "___\n",
    "\n",
    "Martin Guyard\n",
    "\n",
    "___"
   ]
  },
  {
   "cell_type": "markdown",
   "metadata": {},
   "source": [
    "The aim of this lab is to practice with Neural Networks (Multi-Layer Perceptrons) via simple classification experiments and the (partial) implementation of the feedforward and backpropagation procedures. For this lab, the implementation of the MLP simulator is in Python 3.\n",
    "\n",
    "#### Learning goals\n",
    "After this lab, you should be able to:\n",
    "1. Be familiar with the elements required to define the architecture of a neural network (NN).\n",
    "2. Understand the two procedures needed to train a neural network: feedforward and backpropagation\n",
    "3. Understand the role of the learning rate and the number of iterations in the training process of a NN and how it these can affect performance.\n",
    "\n",
    "#### Instructions:\n",
    "Experiments should be made by groups of two students. Each group should produce a Jupyter Notebook with all their results and comments. We strongly encourage the addition of plots and visual representation to the report, bearing in mind that comments on the graphical data are still necessary. Code for adding images to your notebook: ```<img src=\"path/to/image.png\" />```. <Plateforme soumission des notebooks>\n",
    "\n",
    "**Submission deadline**: Nov. 18 23.59 (submision via Moodle)"
   ]
  },
  {
   "cell_type": "markdown",
   "metadata": {},
   "source": [
    "<h2>Introduction</h2>\n",
    "There are three parts to this lab session. \n",
    "\n",
    "1. A \"theoretical\" part: Given a set of training examples you have to decide on the architecture of the feed-forward neural network such as; number of layers, number of neuron per layers and finally the values of the weights. \n",
    "\n",
    "2. A \"programming\" part: Given the skeleton of the Python code of an MLP simulator, implement the missing functions (feedforward and backpropagation procedures). \n",
    "\n",
    "3. An \"experimental\" part: Having completed the implementation of the MLP simulator, the final step consist on training the network and testing it.\n",
    "\n",
    "<h2>Part 1: Design a neural network</h2>\n",
    "The aim of this part is to get a better understanding of the basics of Neural Networks construction. A number of sample points on a 128 by 128 grid have been assigned one out of three colors (red, green or blue). You should build a Neural Network with two inputs and three outputs which provides the exact coloring for these points. The problem can be visualized in the following figure: \n",
    "\n",
    "<img src=\"data_set.jpg\" />\n",
    "\n",
    "The file set30.x1x2rgb (in .\\data\\) contains the data corresponding to the problem defined above. The visual representation of the problem (above figure) is stored in data_set.jpg.\n",
    "\n",
    "The problem:\n",
    "\n",
    "Pairs of x1 and x2 coordinates (both ranging between 0 and 127) are associated with a specific color: \n",
    "\n",
    "* Red: output 1 0 0, \n",
    "* Green: output 0 1 0, \n",
    "* Blue: output 0 0 1. \n",
    "\n",
    "The objective of the network is to correctly determine for any given (x1, x2) coordinate pair the corresponding color. \n",
    "Your task is to <b>manually define a Neural Network which performs this task perfectly</b>. There is no need for programming or iterative training. The transfer function is assumed to be the step function: \n",
    "\n",
    "$f(t) = (t > 0)$ (it is equal to 1 if t is positive, 0 otherwise). \n",
    "\n",
    "Of course, it is your task to define the number of layers, the number of neurons per layer, and the exact values for the weights. \n",
    "\n",
    "<i>Hint: We may remember the XOR problem and how it was solved.</i>"
   ]
  },
  {
   "cell_type": "markdown",
   "metadata": {},
   "source": [
    "<h3>Your answer:</h3>"
   ]
  },
  {
   "cell_type": "markdown",
   "metadata": {},
   "source": [
    "Clusters are **linearly separable by 2 hyperplans.** As we did with the xor function, a simple MLP with 2 hidden units and 3 output units is enough to separate the data.\n",
    "<img src=\"data_sep.png\" />`"
   ]
  },
  {
   "cell_type": "markdown",
   "metadata": {},
   "source": [
    "Each hidden units corresponds to a linear relation that separate data. First hidden unit separate RED / (BLUE, GREEN), second hidden unit separate BLUE/GREEN\n",
    "\n",
    "\n",
    "<br>\n",
    "$h(a)=step(a)$ : the transfert function is the step function.\n",
    "<br>\n",
    "<br>\n",
    "\n",
    "**1. Separate RED/(BLUE, GREEN): First hidden unit**\n",
    "<br>(0, 60) and (120, 0)\n",
    "<br>$0*w_{11}+80*w_{21} + b_1 = 0$\n",
    "<br>\n",
    "$120*w_{11}+0*w_{21} + b_1 = 0$\n",
    "<br> Thus choosing $b_1=-1$, $w_{11}=1/120$, $w_{21}=1/80$ \n",
    "<br>\n",
    "If (x1, x2) is **in** the **RED** cluster, then $h(w_{11}x_1+w_{21}x_2-b_1)=0$\n",
    "<br>\n",
    "If (x1, x2) is **NOT in** the **RED** cluster, then $h(w_{11}x_1+w_{21}x_2-b_1)=1$\n",
    "\n",
    "\n",
    "**2. Separate BLUE/GREEN: Second hidden unit**\n",
    "<br>(60, 60) and (100, 120)\n",
    "<br>$60*w_{12}+60*w_{22} + b_2 = 0$\n",
    "<br>\n",
    "$100*w_{12}+120*w_{22} + b_2 = 0$\n",
    "<br> Thus choosing $b_2=-1$, $w_{12}=-1/30$, $w_{22}=1/20$\n",
    "<br>\n",
    "If (x1, x2) is **in** the **GREEN** cluster, then \n",
    "$h(w_{12}x_1+w_{22}x_2-b_2)=1$ and $h(w_{11}x_1+w_{21}x_2-b_1)=1$\n",
    "<br>\n",
    "If (x1, x2) is **in** the **BLUE** cluster, then \n",
    "$h(w_{12}x_1+w_{22}x_2-b_2)=0$ and $h(w_{11}x_1+w_{21}x_2-b_1)=1$\n",
    "\n",
    "**3. Find weights of the output layer**\n",
    "<br>\n",
    "to find the output units weights we can draw truth table and find the right combination of weight and biases\n",
    "<br>\n",
    "**example:**\n",
    "RED truth table:\n",
    "\n",
    "|  H1 | H2  |  Z |\n",
    "|---|---|---|\n",
    "|   0|   0|   1|\n",
    "|   0|   1|   1| \n",
    "|   1|   0|   0|\n",
    "|   1|   1|   0|\n",
    "\n",
    "This works with w1 = -1, w2 = 0 and b = +0.5\n",
    "\n",
    "<br>\n",
    "\n",
    "**OUR MLP**\n",
    "\n",
    "<img src=\"MLP.png\" />`"
   ]
  },
  {
   "cell_type": "raw",
   "metadata": {},
   "source": [
    "# 1 hidden layers with 2 neurons \n",
    "\n",
    "Input layer:  2 units,  x1   x2\n",
    "\n",
    "First hidden layer:\n",
    "    2 neurons:\n",
    "    neuron 1:     w11 = +1/120\n",
    "                  w21 = +1/80\n",
    "                  b1  = -1\n",
    "                  \n",
    "    neuron 2:     w12 = -1/30\n",
    "                  w22 = +1/20\n",
    "                  b2  = -1\n",
    "\n",
    "output layer:\n",
    "    3 neurons:\n",
    "    neuron 1:     w11 = -1\n",
    "                  w21 = 0     \n",
    "                  b1  = +0.5\n",
    "                  \n",
    "    neuron 2:     w12 = +1\n",
    "                  w22 = -1   \n",
    "                  b2  = -0.5\n",
    "                  \n",
    "    neuron 3:     w13 = +1\n",
    "                  w23 = +1\n",
    "                  b3  = -1.5"
   ]
  },
  {
   "cell_type": "markdown",
   "metadata": {},
   "source": [
    "<h2>Part 2: Implementation of the MLP simulator</h2>\n",
    "The task here is to implement the missing parts of a code written to simulate multi-layer perceptrons. The code can be found in your directory under the filename utils.py (but you will not edit that file, all your code will be written in your notebook). Here is a brief explanation about the MLP simulator: \n",
    "\n",
    "A network description file has to be provided. This is a text file which contains information about the number of layers in the network and the number of units (neuron) for each layer. Here is an example of such a file: "
   ]
  },
  {
   "cell_type": "raw",
   "metadata": {},
   "source": [
    "2\n",
    "3"
   ]
  },
  {
   "cell_type": "markdown",
   "metadata": {},
   "source": [
    "This example describes a 2 layer network with 2 hidden units and 3 output units. \n",
    "Additionally a pattern (or example set) file has to be provided. This file contains a number of example pattern with input and output values. For an example of such a file look at ./data/set30.x1x2rgb.\n",
    "\n",
    "As you know, activation functions of an MLP need to be differentiable to train it. Therefore, we replace the step function by a sigmoid function.\n",
    "\n",
    "Now that you have a broad overview of the program your task is to <b>implement the feedforward function of the Neuron class</b>. Obviously, you can find help in the notes from the course."
   ]
  },
  {
   "cell_type": "code",
   "execution_count": 1,
   "metadata": {},
   "outputs": [],
   "source": [
    "# First run this cell to import relevant classes and functions\n",
    "from utils import Neuron, Dataset, Layer, MLP, sigmoid, d_sigmoid"
   ]
  },
  {
   "cell_type": "markdown",
   "metadata": {},
   "source": [
    "<h3>Your answer:</h3>"
   ]
  },
  {
   "cell_type": "code",
   "execution_count": 2,
   "metadata": {},
   "outputs": [],
   "source": [
    "def feedforward(self):\n",
    "    res = 0.\n",
    "    for i in range(len(self.inputs)):\n",
    "        #      x1*w1+...+xn*wn\n",
    "        res += self.inputs[i]*self.weights[i]\n",
    "    res += self.bias\n",
    "    self.u = res\n",
    "    self.out = sigmoid(res)\n",
    "\n",
    "Neuron.feedforward = feedforward"
   ]
  },
  {
   "cell_type": "markdown",
   "metadata": {},
   "source": [
    "Before implementing the Backpropagation function, <b>write the recursive formula for the partial derivative of the error with respect to the activation (neuron j of layer i) as a function of the weights and partial derivative of the error in layer i+1 from the course material</b>."
   ]
  },
  {
   "cell_type": "markdown",
   "metadata": {},
   "source": [
    "<h3>Your answer:</h3>\n",
    "\n",
    "$$ \\frac{\\partial L}{\\partial a^{(i)}_j} = h'(a^{(i)}_j)\\cdot\\sum_{k=1}^{\\ n} \\frac{\\partial L}{\\partial a^{(i+1)}_k}\\cdot\\ w_{kj}$$\n",
    "\n",
    "Using the chain rules.\n",
    "n being the number of neurons on the layer i+1"
   ]
  },
  {
   "cell_type": "markdown",
   "metadata": {},
   "source": [
    "Now, <b>implement the compute_gradients() and the apply_gradient() functions of the MLP class</b>.\n",
    "\n",
    "<h3>Your answer:</h3>"
   ]
  },
  {
   "cell_type": "code",
   "execution_count": 3,
   "metadata": {},
   "outputs": [],
   "source": [
    "def compute_gradients(self):\n",
    "    # First compute derivatives for the last layer\n",
    "    layer = self.layers[-1]\n",
    "    for i in range(len(layer)):\n",
    "        # Compute dL/du_i\n",
    "        neuron = layer.neurons[i]\n",
    "        o = neuron.out # o = sigmoid(u)\n",
    "        u = neuron.u\n",
    "        t = self.gt[i]\n",
    "        \n",
    "        neuron.d_u = 2*d_sigmoid(u)*(o-t)\n",
    "        \n",
    "        for j in range(len(neuron.weights)):\n",
    "            # Compute dL/dw_ji\n",
    "            # using chains derivation: dL/dw_ji = dL/du_i * du_i/dw_ji\n",
    "            neuron.d_weights[j] = neuron.d_u * neuron.inputs[j]\n",
    "\n",
    "    # Then compute derivatives for other layers\n",
    "    for l in range(2, len(self.layers)):\n",
    "        layer = self.layers[-l]\n",
    "        next_layer = self.layers[-l+1]\n",
    "        for i in range(len(layer)):\n",
    "            # Compute dL/du_i\n",
    "            neuron = layer.neurons[i]\n",
    "            d_u = 0.\n",
    "            u = neuron.u\n",
    "            for j in range(len(next_layer)):\n",
    "                next_neuron = next_layer.neurons[j]\n",
    "                d_u += d_sigmoid(u) * next_neuron.d_u * next_neuron.weights[i]\n",
    "                \n",
    "            neuron.d_u = d_u\n",
    "            for j in range(len(neuron.weights)):\n",
    "                # Compute dL/dw_ji\n",
    "                # using chains derivation: dL/dw_ji = dL/du_i * du_i/dw_ji\n",
    "                neuron.d_weights[j] = neuron.d_u * neuron.inputs[j]\n",
    "                \n",
    "                \n",
    "\n",
    "def apply_gradients(self, learning_rate):\n",
    "    # Change weights according to computed gradients\n",
    "    for i in range(1, len(self.layers)):\n",
    "        layer = self.layers[i]\n",
    "        for j in range(1, len(layer)):\n",
    "            neuron = layer.neurons[j]\n",
    "            for k in range(len(neuron.d_weights)):\n",
    "                neuron.weights[k] -= learning_rate * neuron.d_weights[k]\n",
    "                \n",
    "            neuron.bias -= learning_rate * neuron.d_u\n",
    "\n",
    "MLP.compute_gradients = compute_gradients\n",
    "MLP.apply_gradients = apply_gradients"
   ]
  },
  {
   "cell_type": "markdown",
   "metadata": {},
   "source": [
    "<h2>Part 3: Training and Recall experiments</h2>\n",
    "\n",
    "Train the network on the problem stated in Part 1, using the training set set120.x1x2rgb and the following parameters:\n",
    "* learning rate: 2.0; \n",
    "* number of training cycles: 1000\n",
    "\n",
    "In order to do so you will need to create a network definition file (as described in the introduction) containing the details of the network architecture. \n",
    "Evaluate the accuracy using set30.x1x2rgb as the test set (you can use the setdataset() function of the MLP class to change between training and test sets).\n",
    "\n",
    "Experiment with the learning rate and the number of training cycles. What do you notice?"
   ]
  },
  {
   "cell_type": "markdown",
   "metadata": {},
   "source": [
    "<h3>Your answer:</h3>"
   ]
  },
  {
   "cell_type": "code",
   "execution_count": 16,
   "metadata": {},
   "outputs": [
    {
     "data": {
      "image/png": "[encoded data removed]",
      "text/plain": [
       "<Figure size 432x288 with 1 Axes>"
      ]
     },
     "metadata": {},
     "output_type": "display_data"
    },
    {
     "name": "stdout",
     "output_type": "stream",
     "text": [
      "=== Result on test data ===\n",
      "Accuracy: 96.66666666666667 %\n"
     ]
    }
   ],
   "source": [
    "train_datafile = \"data/set120.x1x2rgb\"\n",
    "train_data = Dataset(train_datafile)\n",
    "\n",
    "test_datafile = \"data/set30.x1x2rgb\"\n",
    "test_data = Dataset(test_datafile)\n",
    "\n",
    "nnfile = \"data/NN.dat\"\n",
    "mlp = MLP(nnfile, train_data, print_step=25, verbose=False)\n",
    "\n",
    "mlp.train(2000, 0.5)\n",
    "mlp.make_plot()\n",
    "\n",
    "print(\"=== Result on test data ===\")\n",
    "mlp.setdataset(test_data)\n",
    "mlp.print_accuracy()\n",
    "\n",
    "# .cmp_acc([list of points [], [] ...])\n",
    "# is a method to test directly some sample\n",
    "# eg. mlp.cmp_acc([[120,60]])"
   ]
  },
  {
   "cell_type": "markdown",
   "metadata": {},
   "source": [
    "<h3>Your comments</h3>\n",
    "\n",
    "___\n",
    "\n",
    "Each epoch corresponds to a backpropagation of the gradient on the entire network. This means that each epoch is slightly changing (according to the learning rate) the weights and bias of the neurons.\n",
    "\n",
    "\n",
    "**On one hand**, if the learning is to big (in this case > 1.5) the accuracy over the epoch is very unstable. A learning rate (aka step size) too big might cause gradient divergence. The SGD or GD algorithm converge only with some assumptions on the convexity of the funtion to optimize and the step size.\n",
    "\n",
    "\n",
    "**On the other hand**, it the step size is too small the network needs a lot of epoch to give a good enough accuracy. Because at each epoch the weights and bias are changed according to the learning rate if it is too small the network will require a lot of backpropagation stage (ie epoch) to change substatially the network.\n",
    "\n",
    "\n",
    "So there is the following tradeoff:\n",
    "- small learning rate might converge and give better better accuracy BUT require lots of epochs = lots of computation\n",
    "- big learning rate might not converge and gave poorer accuracy BUT require less epoch = less computation\n",
    "\n",
    "\n",
    "\n",
    "So in the end choosing those meta-parameters for a simple neural network is not trivial, the right tradeoff is too choose a balance between targeted accuracy (ie accuracy good enough for the problem we are trying to solve) and computation time (number of epoch to reach this level of accuracy).\n",
    "\n",
    "\n",
    "My heuristic approach to choose these meta-parameters would be the following:\n",
    "- 1) Train with epoch=1000 and lrate=2.0\n",
    "- 2) Unstable accuracy so train again with decreasing lrate=0.5 and epoch=1000\n",
    "- 3) Stable increasing accuracy over the epoch but increase too slowly, so train again with increasing epoch=2000 and lrate=0.5\n",
    "- 4) Achieve stability and good enough accuracy\n",
    "___\n"
   ]
  },
  {
   "cell_type": "code",
   "execution_count": null,
   "metadata": {},
   "outputs": [],
   "source": []
  }
 ],
 "metadata": {
  "kernelspec": {
   "display_name": "Python 3",
   "language": "python",
   "name": "python3"
  },
  "language_info": {
   "codemirror_mode": {
    "name": "ipython",
    "version": 3
   },
   "file_extension": ".py",
   "mimetype": "text/x-python",
   "name": "python",
   "nbconvert_exporter": "python",
   "pygments_lexer": "ipython3",
   "version": "3.5.2"
  }
 },
 "nbformat": 4,
 "nbformat_minor": 2
}
